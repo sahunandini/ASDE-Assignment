{
 "cells": [
  {
   "cell_type": "code",
   "execution_count": 1,
   "id": "d1efc95e",
   "metadata": {},
   "outputs": [],
   "source": [
    "import pandas as pd"
   ]
  },
  {
   "cell_type": "code",
   "execution_count": 2,
   "id": "e8f048d2",
   "metadata": {},
   "outputs": [],
   "source": [
    "# Reading the Departments, Employees, and Salaries data from CSV files"
   ]
  },
  {
   "cell_type": "code",
   "execution_count": 3,
   "id": "9be9e66d",
   "metadata": {},
   "outputs": [],
   "source": [
    "departments = pd.read_csv(\"C:/Users/PC/Downloads/Departments.csv\")"
   ]
  },
  {
   "cell_type": "code",
   "execution_count": 4,
   "id": "1b477d7e",
   "metadata": {},
   "outputs": [],
   "source": [
    "employees = pd.read_csv(\"C:/Users/PC/Downloads/Employees.csv\")"
   ]
  },
  {
   "cell_type": "code",
   "execution_count": 5,
   "id": "4edfa357",
   "metadata": {},
   "outputs": [],
   "source": [
    "salaries = pd.read_csv(\"C:/Users/PC/Downloads/Salaries.csv\")"
   ]
  },
  {
   "cell_type": "code",
   "execution_count": 8,
   "id": "e0f6f906",
   "metadata": {},
   "outputs": [],
   "source": [
    "# Merging the Departments, Employees, and Salaries data based on matching columns\n",
    "df = pd.merge(departments, employees, left_on='ID', right_on='DEPT_ID')"
   ]
  },
  {
   "cell_type": "code",
   "execution_count": 10,
   "id": "c9d58405",
   "metadata": {},
   "outputs": [],
   "source": [
    "# Merging the merged data with Salaries data based on matching columns\n",
    "data = pd.merge(df, salaries, left_on='ID_y', right_on='EMP_ID')"
   ]
  },
  {
   "cell_type": "code",
   "execution_count": 11,
   "id": "7e3a05de",
   "metadata": {},
   "outputs": [
    {
     "data": {
      "text/html": [
       "<div>\n",
       "<style scoped>\n",
       "    .dataframe tbody tr th:only-of-type {\n",
       "        vertical-align: middle;\n",
       "    }\n",
       "\n",
       "    .dataframe tbody tr th {\n",
       "        vertical-align: top;\n",
       "    }\n",
       "\n",
       "    .dataframe thead th {\n",
       "        text-align: right;\n",
       "    }\n",
       "</style>\n",
       "<table border=\"1\" class=\"dataframe\">\n",
       "  <thead>\n",
       "    <tr style=\"text-align: right;\">\n",
       "      <th></th>\n",
       "      <th>ID_x</th>\n",
       "      <th>NAME_x</th>\n",
       "      <th>ID_y</th>\n",
       "      <th>NAME_y</th>\n",
       "      <th>DEPT_ID</th>\n",
       "      <th>EMP_ID</th>\n",
       "      <th>MONTH (YYYYMM)</th>\n",
       "      <th>AMT</th>\n",
       "    </tr>\n",
       "  </thead>\n",
       "  <tbody>\n",
       "    <tr>\n",
       "      <th>0</th>\n",
       "      <td>1</td>\n",
       "      <td>HR</td>\n",
       "      <td>1</td>\n",
       "      <td>Jack</td>\n",
       "      <td>1</td>\n",
       "      <td>1</td>\n",
       "      <td>202207</td>\n",
       "      <td>5000</td>\n",
       "    </tr>\n",
       "    <tr>\n",
       "      <th>1</th>\n",
       "      <td>1</td>\n",
       "      <td>HR</td>\n",
       "      <td>1</td>\n",
       "      <td>Jack</td>\n",
       "      <td>1</td>\n",
       "      <td>1</td>\n",
       "      <td>202208</td>\n",
       "      <td>5000</td>\n",
       "    </tr>\n",
       "    <tr>\n",
       "      <th>2</th>\n",
       "      <td>1</td>\n",
       "      <td>HR</td>\n",
       "      <td>2</td>\n",
       "      <td>John</td>\n",
       "      <td>1</td>\n",
       "      <td>2</td>\n",
       "      <td>202207</td>\n",
       "      <td>4000</td>\n",
       "    </tr>\n",
       "    <tr>\n",
       "      <th>3</th>\n",
       "      <td>1</td>\n",
       "      <td>HR</td>\n",
       "      <td>2</td>\n",
       "      <td>John</td>\n",
       "      <td>1</td>\n",
       "      <td>2</td>\n",
       "      <td>202208</td>\n",
       "      <td>4000</td>\n",
       "    </tr>\n",
       "    <tr>\n",
       "      <th>4</th>\n",
       "      <td>1</td>\n",
       "      <td>HR</td>\n",
       "      <td>10</td>\n",
       "      <td>Shirley</td>\n",
       "      <td>1</td>\n",
       "      <td>10</td>\n",
       "      <td>202207</td>\n",
       "      <td>4800</td>\n",
       "    </tr>\n",
       "    <tr>\n",
       "      <th>...</th>\n",
       "      <td>...</td>\n",
       "      <td>...</td>\n",
       "      <td>...</td>\n",
       "      <td>...</td>\n",
       "      <td>...</td>\n",
       "      <td>...</td>\n",
       "      <td>...</td>\n",
       "      <td>...</td>\n",
       "    </tr>\n",
       "    <tr>\n",
       "      <th>166</th>\n",
       "      <td>5</td>\n",
       "      <td>Sales</td>\n",
       "      <td>16</td>\n",
       "      <td>Howard</td>\n",
       "      <td>5</td>\n",
       "      <td>16</td>\n",
       "      <td>202305</td>\n",
       "      <td>7500</td>\n",
       "    </tr>\n",
       "    <tr>\n",
       "      <th>167</th>\n",
       "      <td>5</td>\n",
       "      <td>Sales</td>\n",
       "      <td>16</td>\n",
       "      <td>Howard</td>\n",
       "      <td>5</td>\n",
       "      <td>16</td>\n",
       "      <td>202306</td>\n",
       "      <td>7500</td>\n",
       "    </tr>\n",
       "    <tr>\n",
       "      <th>168</th>\n",
       "      <td>5</td>\n",
       "      <td>Sales</td>\n",
       "      <td>21</td>\n",
       "      <td>Bruce</td>\n",
       "      <td>5</td>\n",
       "      <td>21</td>\n",
       "      <td>202304</td>\n",
       "      <td>4800</td>\n",
       "    </tr>\n",
       "    <tr>\n",
       "      <th>169</th>\n",
       "      <td>5</td>\n",
       "      <td>Sales</td>\n",
       "      <td>21</td>\n",
       "      <td>Bruce</td>\n",
       "      <td>5</td>\n",
       "      <td>21</td>\n",
       "      <td>202305</td>\n",
       "      <td>4800</td>\n",
       "    </tr>\n",
       "    <tr>\n",
       "      <th>170</th>\n",
       "      <td>5</td>\n",
       "      <td>Sales</td>\n",
       "      <td>21</td>\n",
       "      <td>Bruce</td>\n",
       "      <td>5</td>\n",
       "      <td>21</td>\n",
       "      <td>202306</td>\n",
       "      <td>4800</td>\n",
       "    </tr>\n",
       "  </tbody>\n",
       "</table>\n",
       "<p>171 rows × 8 columns</p>\n",
       "</div>"
      ],
      "text/plain": [
       "     ID_x NAME_x  ID_y   NAME_y  DEPT_ID  EMP_ID  MONTH (YYYYMM)   AMT\n",
       "0       1     HR     1     Jack        1       1          202207  5000\n",
       "1       1     HR     1     Jack        1       1          202208  5000\n",
       "2       1     HR     2     John        1       2          202207  4000\n",
       "3       1     HR     2     John        1       2          202208  4000\n",
       "4       1     HR    10  Shirley        1      10          202207  4800\n",
       "..    ...    ...   ...      ...      ...     ...             ...   ...\n",
       "166     5  Sales    16   Howard        5      16          202305  7500\n",
       "167     5  Sales    16   Howard        5      16          202306  7500\n",
       "168     5  Sales    21    Bruce        5      21          202304  4800\n",
       "169     5  Sales    21    Bruce        5      21          202305  4800\n",
       "170     5  Sales    21    Bruce        5      21          202306  4800\n",
       "\n",
       "[171 rows x 8 columns]"
      ]
     },
     "execution_count": 11,
     "metadata": {},
     "output_type": "execute_result"
    }
   ],
   "source": [
    "data"
   ]
  },
  {
   "cell_type": "code",
   "execution_count": 14,
   "id": "f6226f14",
   "metadata": {},
   "outputs": [],
   "source": [
    "# Grouping the data by 'NAME_x' (department name) and calculate the mean of 'AMT' (salary)\n",
    "x = data.groupby(['NAME_x']).agg(DEPT_NAME=('NAME_x', 'first'), AVG_MONTHLY_SALARY=('AMT', 'mean'))"
   ]
  },
  {
   "cell_type": "code",
   "execution_count": 17,
   "id": "32e11446",
   "metadata": {},
   "outputs": [],
   "source": [
    "# Sorting the average salaries in descending order\n",
    "x = x.sort_values(by='AVG_MONTHLY_SALARY', ascending=False)"
   ]
  },
  {
   "cell_type": "code",
   "execution_count": 20,
   "id": "fabf473a",
   "metadata": {},
   "outputs": [],
   "source": [
    "# Resetting the index to remove the row index label\n",
    "x = x.reset_index(drop=True)"
   ]
  },
  {
   "cell_type": "code",
   "execution_count": 22,
   "id": "806eba86",
   "metadata": {},
   "outputs": [],
   "source": [
    "# Retrieve the top 3 departments with the highest average salaries\n",
    "top_3_departments = x.head(3)"
   ]
  },
  {
   "cell_type": "code",
   "execution_count": 23,
   "id": "42d1aaa6",
   "metadata": {},
   "outputs": [
    {
     "name": "stdout",
     "output_type": "stream",
     "text": [
      "  DEPT_NAME  AVG_MONTHLY_SALARY\n",
      "0     Sales          7045.16129\n",
      "1       Ops          6420.00000\n",
      "2   Finance          6360.31746\n"
     ]
    }
   ],
   "source": [
    "print(top_3_departments)"
   ]
  }
 ],
 "metadata": {
  "kernelspec": {
   "display_name": "Python 3 (ipykernel)",
   "language": "python",
   "name": "python3"
  },
  "language_info": {
   "codemirror_mode": {
    "name": "ipython",
    "version": 3
   },
   "file_extension": ".py",
   "mimetype": "text/x-python",
   "name": "python",
   "nbconvert_exporter": "python",
   "pygments_lexer": "ipython3",
   "version": "3.11.3"
  }
 },
 "nbformat": 4,
 "nbformat_minor": 5
}
