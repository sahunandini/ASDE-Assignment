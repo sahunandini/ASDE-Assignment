{
 "cells": [
  {
   "cell_type": "code",
   "execution_count": 16,
   "id": "382a9d8b",
   "metadata": {},
   "outputs": [],
   "source": [
    "def compute(n):\n",
    "    if n < 10:\n",
    "        out = n ** 2\n",
    "    elif n < 20:\n",
    "        out = 1\n",
    "        # Calculate the factorial of (n-9) instead of (n-10) because the value of n is already reduced by '10' \n",
    "        # in the condition (n < 20). \n",
    "        for i in range(1, n-9):\n",
    "            out *= i\n",
    "    else:\n",
    "        lim = n - 19 # Calculate the sum of all integers between 1 and (n-19) instead of (n-20) \n",
    "        # because (n-20) would exclude the number 1. By using (n-19), we include 1.\n",
    "        out = lim * lim\n",
    "        out = out - lim\n",
    "        out = out / 2 \n",
    "    print(out)"
   ]
  },
  {
   "cell_type": "code",
   "execution_count": 17,
   "id": "4b990684",
   "metadata": {},
   "outputs": [
    {
     "name": "stdout",
     "output_type": "stream",
     "text": [
      "Enter an integer: 25\n",
      "15.0\n"
     ]
    }
   ],
   "source": [
    "n = int(input(\"Enter an integer: \"))\n",
    "compute(n)"
   ]
  }
 ],
 "metadata": {
  "kernelspec": {
   "display_name": "Python 3 (ipykernel)",
   "language": "python",
   "name": "python3"
  },
  "language_info": {
   "codemirror_mode": {
    "name": "ipython",
    "version": 3
   },
   "file_extension": ".py",
   "mimetype": "text/x-python",
   "name": "python",
   "nbconvert_exporter": "python",
   "pygments_lexer": "ipython3",
   "version": "3.11.3"
  }
 },
 "nbformat": 4,
 "nbformat_minor": 5
}
